{
 "cells": [
  {
   "cell_type": "code",
   "execution_count": 1,
   "id": "9d610b50",
   "metadata": {},
   "outputs": [],
   "source": [
    "import numpy as np\n",
    "import pandas as pd\n",
    "import seaborn as sns\n",
    "import math"
   ]
  },
  {
   "cell_type": "code",
   "execution_count": 2,
   "id": "7322e30f",
   "metadata": {},
   "outputs": [],
   "source": [
    "#matriz1\n",
    "#\"V1\",\"V2\"\n",
    "#2.44165734569676,-2.2472540239954         BIAS\n",
    "#3.57025145304655,-1.31537531944558        SEPAL LENGTH    \n",
    "#4.40140130017788,-4.35149900341162        SEPAL WIDTH \n",
    "#6.06914265980083,3.21532430189672         PETAL LENGTH \n",
    "#2.57714746453553,4.48238026207748         PETAL LENGTH \n",
    "\n",
    "#matriz2\n",
    "#\"V1\",\"V2\",\"V3\"\n",
    "#-4.62073411600566,0.452148806856903,-5.09843141007433            BIAS\n",
    "#-4.27193744991036,-0.707895143918418,-4.90922545457482           N1\n",
    "#22.0600198951011,885.771197676238,27.6939539115861               N2\n",
    "\n",
    "#matriz3\n",
    "#\"V1\",\"V2\",\"V3\"\n",
    "#1.77544274952765,-0.776408120900354,0.00127582161217852          BIAS\n",
    "#-0.00337826388524608,-2.70212083912365,2.7335711012372           N3\n",
    "#-1.77689109670746,1.77987751354521,-0.00331940048018184          N4\n",
    "#0.00481716926494422,1.695441269311,-1.72807157192904             N5\n"
   ]
  },
  {
   "cell_type": "code",
   "execution_count": 3,
   "id": "8cbd49c9",
   "metadata": {},
   "outputs": [],
   "source": [
    "#matriz1 = pd.read_clipboard(sep=',')"
   ]
  },
  {
   "cell_type": "code",
   "execution_count": 4,
   "id": "7273a89e",
   "metadata": {},
   "outputs": [],
   "source": [
    "#matriz1"
   ]
  },
  {
   "cell_type": "code",
   "execution_count": 5,
   "id": "f277068e",
   "metadata": {},
   "outputs": [],
   "source": [
    "#print(matriz1.to_numpy())"
   ]
  },
  {
   "cell_type": "code",
   "execution_count": 6,
   "id": "4ef1ac8e",
   "metadata": {},
   "outputs": [],
   "source": [
    "#Creacion de matriz de pesos para la primera capa y bias aparte\n",
    "w1 = np.array([[ 3.57025145, -1.31537532],\n",
    " [ 4.4014013,  -4.351499  ],\n",
    " [ 6.06914266,  3.2153243 ],\n",
    " [ 2.57714746 , 4.48238026]])\n",
    "\n",
    "b1 = np.array([2.44165734569676,-2.2472540239954])"
   ]
  },
  {
   "cell_type": "code",
   "execution_count": 7,
   "id": "305bf4e2",
   "metadata": {},
   "outputs": [],
   "source": [
    "#Creacion de matriz de pesos para la segunda capa  y bias aparte\n",
    "w2=np.array([ [-4.27193745e+00, -7.07895144e-01, -4.90922545e+00],\n",
    " [ 2.20600199e+01,  8.85771198e+02, 2.76939539e+01] ])\n",
    "\n",
    "b2 = np.array([-4.62073412e+00,  4.52148807e-01, -5.09843141e+00])"
   ]
  },
  {
   "cell_type": "code",
   "execution_count": 8,
   "id": "64c489ba",
   "metadata": {},
   "outputs": [],
   "source": [
    "#Creacion de matriz de pesos para la tercera capa  y bias aparte\n",
    "w3=np.array([ [-3.37826389e-03, -2.70212084e+00,  2.73357110e+00],\n",
    " [-1.77689110e+00,  1.77987751e+00, -3.31940048e-03],\n",
    " [ 4.81716926e-03,  1.69544127e+00, -1.72807157e+00] ])\n",
    "\n",
    "b3 = np.array([ 1.77544275e+00, -7.76408121e-01,  1.27582161e-03])"
   ]
  },
  {
   "cell_type": "code",
   "execution_count": 9,
   "id": "2691d45f",
   "metadata": {},
   "outputs": [],
   "source": [
    "#funciones para la clasificacion\n",
    "def sigmoide(x):\n",
    "    return 1.0/(1.0 + np.exp(-1.0 * x))\n",
    "\n",
    "def clasificacionIris(datos):\n",
    "    #fase1 = datos de entrada por pesos de capa 1 + bias y la funcion de activacion\n",
    "    fase1 = sigmoide(np.dot(datos, w1) + b1)\n",
    "    #fase2 = resultados de fase1 por pesos de capa 2 + bias y la funcion de activacion\n",
    "    fase2 = sigmoide(np.dot(fase1, w2) + b2)\n",
    "    #fase3 = resultados de fase2 por pesos de capa 3 + bias \n",
    "    fase3 = np.dot(fase2, w3) + b3\n",
    "    #se deja en terminos de enteros para saber quien tiene el valor 1\n",
    "    resultado = np.round(fase3)\n",
    "    if(resultado[0] ==1):\n",
    "        return \"setosa\"\n",
    "    elif(resultado[1] ==1):\n",
    "        return \"versicolor\"\n",
    "    elif(resultado[2] ==1):\n",
    "        return \"virginica\""
   ]
  },
  {
   "cell_type": "code",
   "execution_count": 10,
   "id": "441e29a1",
   "metadata": {
    "scrolled": true
   },
   "outputs": [],
   "source": [
    "data = sns.load_dataset('iris')\n",
    "clasificacion = np.array([data['sepal_length'], data['sepal_width'],data['petal_length'],data['petal_width'], data['species']])"
   ]
  },
  {
   "cell_type": "code",
   "execution_count": 11,
   "id": "ca6ef88f",
   "metadata": {},
   "outputs": [
    {
     "name": "stdout",
     "output_type": "stream",
     "text": [
      "la clasificacion fue: 147/150 exitosa\n"
     ]
    }
   ],
   "source": [
    "res=[]\n",
    "cont = 0\n",
    "for i in range(0,len(data)):\n",
    "    aux = np.array([clasificacion[0][i], clasificacion[1][i], clasificacion[2][i], clasificacion[3][i]])\n",
    "    res.append(clasificacionIris(aux))\n",
    "    if(clasificacionIris(aux)== clasificacion[4][i]):\n",
    "        cont+=1\n",
    "\n",
    "print('la clasificacion fue: ' + str(cont) + '/' + str(len(data))+ ' exitosa')"
   ]
  },
  {
   "cell_type": "code",
   "execution_count": null,
   "id": "72d92f2a",
   "metadata": {},
   "outputs": [],
   "source": []
  }
 ],
 "metadata": {
  "kernelspec": {
   "display_name": "Python 3 (ipykernel)",
   "language": "python",
   "name": "python3"
  },
  "language_info": {
   "codemirror_mode": {
    "name": "ipython",
    "version": 3
   },
   "file_extension": ".py",
   "mimetype": "text/x-python",
   "name": "python",
   "nbconvert_exporter": "python",
   "pygments_lexer": "ipython3",
   "version": "3.9.12"
  }
 },
 "nbformat": 4,
 "nbformat_minor": 5
}
